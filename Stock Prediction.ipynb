{
 "cells": [
  {
   "cell_type": "markdown",
   "id": "e299a350",
   "metadata": {},
   "source": [
    "# ISFS613 Data Science in Financial Services - Lab1 - Q3"
   ]
  },
  {
   "cell_type": "code",
   "execution_count": 1,
   "id": "5bc4b2e4",
   "metadata": {},
   "outputs": [],
   "source": [
    "import numpy as np \n",
    "import pandas as pd \n",
    "import matplotlib.pyplot as plt\n",
    "from pandas.plotting import lag_plot\n",
    "from datetime import datetime\n",
    "from statsmodels.tsa.arima.model import ARIMA\n",
    "import yfinance as yf"
   ]
  },
  {
   "cell_type": "code",
   "execution_count": 2,
   "id": "525abb5a",
   "metadata": {},
   "outputs": [
    {
     "name": "stdout",
     "output_type": "stream",
     "text": [
      "[*********************100%***********************]  1 of 1 completed\n"
     ]
    },
    {
     "data": {
      "text/html": [
       "<div>\n",
       "<style scoped>\n",
       "    .dataframe tbody tr th:only-of-type {\n",
       "        vertical-align: middle;\n",
       "    }\n",
       "\n",
       "    .dataframe tbody tr th {\n",
       "        vertical-align: top;\n",
       "    }\n",
       "\n",
       "    .dataframe thead th {\n",
       "        text-align: right;\n",
       "    }\n",
       "</style>\n",
       "<table border=\"1\" class=\"dataframe\">\n",
       "  <thead>\n",
       "    <tr style=\"text-align: right;\">\n",
       "      <th></th>\n",
       "      <th>Open</th>\n",
       "      <th>High</th>\n",
       "      <th>Low</th>\n",
       "      <th>Close</th>\n",
       "      <th>Adj Close</th>\n",
       "      <th>Volume</th>\n",
       "    </tr>\n",
       "    <tr>\n",
       "      <th>Date</th>\n",
       "      <th></th>\n",
       "      <th></th>\n",
       "      <th></th>\n",
       "      <th></th>\n",
       "      <th></th>\n",
       "      <th></th>\n",
       "    </tr>\n",
       "  </thead>\n",
       "  <tbody>\n",
       "    <tr>\n",
       "      <th>2015-07-09</th>\n",
       "      <td>51.816002</td>\n",
       "      <td>52.590000</td>\n",
       "      <td>51.358002</td>\n",
       "      <td>51.584000</td>\n",
       "      <td>51.584000</td>\n",
       "      <td>16670500</td>\n",
       "    </tr>\n",
       "    <tr>\n",
       "      <th>2015-07-10</th>\n",
       "      <td>52.444000</td>\n",
       "      <td>52.599998</td>\n",
       "      <td>51.563999</td>\n",
       "      <td>51.830002</td>\n",
       "      <td>51.830002</td>\n",
       "      <td>13054500</td>\n",
       "    </tr>\n",
       "    <tr>\n",
       "      <th>2015-07-13</th>\n",
       "      <td>52.450001</td>\n",
       "      <td>52.509998</td>\n",
       "      <td>51.209999</td>\n",
       "      <td>52.431999</td>\n",
       "      <td>52.431999</td>\n",
       "      <td>14801500</td>\n",
       "    </tr>\n",
       "    <tr>\n",
       "      <th>2015-07-14</th>\n",
       "      <td>52.419998</td>\n",
       "      <td>53.198002</td>\n",
       "      <td>52.102001</td>\n",
       "      <td>53.130001</td>\n",
       "      <td>53.130001</td>\n",
       "      <td>9538000</td>\n",
       "    </tr>\n",
       "    <tr>\n",
       "      <th>2015-07-15</th>\n",
       "      <td>53.348000</td>\n",
       "      <td>53.498001</td>\n",
       "      <td>52.416000</td>\n",
       "      <td>52.627998</td>\n",
       "      <td>52.627998</td>\n",
       "      <td>10108000</td>\n",
       "    </tr>\n",
       "  </tbody>\n",
       "</table>\n",
       "</div>"
      ],
      "text/plain": [
       "                 Open       High        Low      Close  Adj Close    Volume\n",
       "Date                                                                       \n",
       "2015-07-09  51.816002  52.590000  51.358002  51.584000  51.584000  16670500\n",
       "2015-07-10  52.444000  52.599998  51.563999  51.830002  51.830002  13054500\n",
       "2015-07-13  52.450001  52.509998  51.209999  52.431999  52.431999  14801500\n",
       "2015-07-14  52.419998  53.198002  52.102001  53.130001  53.130001   9538000\n",
       "2015-07-15  53.348000  53.498001  52.416000  52.627998  52.627998  10108000"
      ]
     },
     "execution_count": 2,
     "metadata": {},
     "output_type": "execute_result"
    }
   ],
   "source": [
    "#### Use the Ticker symbol \"TSLA\" to access 3 year daily data starting from '2015-07-10' to '2020-07-09') from YAHOO FINANCE.\n",
    "#### Convert index into column Date and remove the index.\n",
    "#### PRINT THE FIRST 5 ROWS\n",
    "\n",
    "df = yf.download(\"TSLA\", start=\"2015-07-10\",end=\"2020-07-09\")\n",
    "df.head(5)"
   ]
  },
  {
   "cell_type": "markdown",
   "id": "f496ef6e",
   "metadata": {},
   "source": [
    "##### Section 3.1\n",
    "Plot the cross correlation of the Close price with a lag of 3\n",
    "Is there any observable correlation in the data with lag 3? Is this data suitable for time-series modeling?"
   ]
  },
  {
   "cell_type": "code",
   "execution_count": 3,
   "id": "0c8ae5a4",
   "metadata": {},
   "outputs": [
    {
     "data": {
      "image/png": "[encoded data removed]",
      "text/plain": [
       "<Figure size 432x288 with 1 Axes>"
      ]
     },
     "metadata": {
      "needs_background": "light"
     },
     "output_type": "display_data"
    }
   ],
   "source": [
    "#### Write the code for 3.1\n",
    "\n",
    "plt.figure()\n",
    "lag_plot(df['Close'], lag=3)\n",
    "plt.title('TSLA Stock - XCorr')\n",
    "plt.show()\n",
    "\n",
    "#The data is suitable for time-series modeling because \n",
    "#correlation is observed with the close price with a lag of 3\n"
   ]
  },
  {
   "cell_type": "markdown",
   "id": "ba9885e5",
   "metadata": {},
   "source": [
    "##### Section 3.2 Fitting an ARIMA Model\n",
    "\n",
    "a. Split the data into training and test sets in the ratio 0.7:0.3.\n",
    "\n",
    "b. Use the Close price column for the training and test set data.\n",
    "\n",
    "c. Create a list called history which takes in all Close values in training data\n",
    "\n",
    "d. Create an empty list called model_predictions\n",
    "\n",
    "e. Loop through each point in the test set\n",
    "\n",
    "f. Fit an ARIMA model with order parameters (4,1,0) on the history list\n",
    "\n",
    "g. Get the model forecast output\n",
    "\n",
    "h. Append the model output to the model_predictions list\n",
    "\n",
    "i. Get the actual value at the current point in the loop and append it to history list and repeat the loop"
   ]
  },
  {
   "cell_type": "code",
   "execution_count": 5,
   "id": "55ddce7e",
   "metadata": {},
   "outputs": [],
   "source": [
    "#### Write the code for 3.2a\n",
    "train = df[:881]\n",
    "test = df[881:1259]\n"
   ]
  },
  {
   "cell_type": "code",
   "execution_count": 6,
   "id": "bace3fe2",
   "metadata": {},
   "outputs": [],
   "source": [
    "#### Write the code for 3.2b\n",
    "\n",
    "train2 = train['Close'].values\n",
    "test2 = test['Close'].values\n"
   ]
  },
  {
   "cell_type": "code",
   "execution_count": 7,
   "id": "18e38faf",
   "metadata": {},
   "outputs": [],
   "source": [
    "#### Write the code for 3.2c\n",
    "\n",
    "history = [i for i in train2]\n"
   ]
  },
  {
   "cell_type": "code",
   "execution_count": 8,
   "id": "4f6db89d",
   "metadata": {},
   "outputs": [],
   "source": [
    "#### Write the code for 3.2d\n",
    "model_predictions = []\n"
   ]
  },
  {
   "cell_type": "code",
   "execution_count": 9,
   "id": "51c90d2e",
   "metadata": {},
   "outputs": [],
   "source": [
    "#### Write the loop for 3.2e to 3.2h\n",
    "\n",
    "for i in range(len(test2)):\n",
    "    arima_model = ARIMA(history, order=(4,1,0))\n",
    "    model_fit = arima_model.fit()\n",
    "    output = model_fit.forecast()\n",
    "    model_predictions.append(output[0])\n",
    "    history.append(test2[i])\n"
   ]
  },
  {
   "cell_type": "markdown",
   "id": "bccd669f",
   "metadata": {},
   "source": [
    "##### Section 3.3\n",
    "Plot the test set data in red and overlay the model predictions in blue"
   ]
  },
  {
   "cell_type": "code",
   "execution_count": 11,
   "id": "5d4b684e",
   "metadata": {
    "scrolled": true
   },
   "outputs": [
    {
     "data": {
      "image/png": "[encoded data removed]",
      "text/plain": [
       "<Figure size 432x288 with 1 Axes>"
      ]
     },
     "metadata": {
      "needs_background": "light"
     },
     "output_type": "display_data"
    }
   ],
   "source": [
    "#### Write the code for 3.3\n",
    "\n",
    "import matplotlib.dates as mdates\n",
    "fig, ax = plt.subplots()\n",
    "plt.plot(test.index, test2, color='red', label='Actual Price')\n",
    "plt.plot(test.index, model_predictions, color='blue',linestyle='dashed',label='Predicted Price')\n",
    "\n",
    "\n",
    "plt.title('TSLA Price Prediction')\n",
    "\n",
    "\n",
    "plt.xlabel('Date')\n",
    "plt.ylabel('Prices')\n",
    "ax.xaxis.set_major_formatter(mdates.DateFormatter(\"%Y-%m\"))\n",
    "ax.xaxis.set_minor_formatter(mdates.DateFormatter(\"%Y-%m\"))\n",
    "_ = plt.xticks(rotation=90)\n",
    "plt.legend()\n",
    "plt.show()\n"
   ]
  },
  {
   "cell_type": "code",
   "execution_count": null,
   "id": "56495727",
   "metadata": {},
   "outputs": [],
   "source": []
  }
 ],
 "metadata": {
  "kernelspec": {
   "display_name": "Python 3",
   "language": "python",
   "name": "python3"
  },
  "language_info": {
   "codemirror_mode": {
    "name": "ipython",
    "version": 3
   },
   "file_extension": ".py",
   "mimetype": "text/x-python",
   "name": "python",
   "nbconvert_exporter": "python",
   "pygments_lexer": "ipython3",
   "version": "3.8.8"
  }
 },
 "nbformat": 4,
 "nbformat_minor": 5
}
